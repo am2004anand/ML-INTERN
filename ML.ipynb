{
 "cells": [
  {
   "cell_type": "code",
   "execution_count": 1,
   "metadata": {},
   "outputs": [
    {
     "name": "stdout",
     "output_type": "stream",
     "text": [
      "['A', 1, 2, 3, 4, 'A', 6, 7, 8, 9, 'A', 11, 12, 13, 14, 'A', 16, 17, 18, 19, 'A', 21, 22, 23, 24, 'A', 26, 27, 28, 29, 'A', 31, 32, 33, 34, 'A', 36, 37, 38, 39, 'A', 41, 42, 43, 44, 'A', 46, 47, 48, 49, 'A', 51, 52, 53, 54, 'A', 56, 57, 58, 59, 'A', 61, 62, 63, 64, 'A', 66, 67, 68, 69, 'A', 71, 72, 73, 74, 'A', 76, 77, 78, 79, 'A', 81, 82, 83, 84, 'A', 86, 87, 88, 89, 'A', 91, 92, 93, 94, 'A', 96, 97, 98, 99, 'A']\n"
     ]
    }
   ],
   "source": [
    "original_list = list(range(101))\n",
    "new_list = ['A' if num % 5 == 0 else num for num in original_list]\n",
    "print(new_list)"
   ]
  }
 ],
 "metadata": {
  "kernelspec": {
   "display_name": "Python 3",
   "language": "python",
   "name": "python3"
  },
  "language_info": {
   "codemirror_mode": {
    "name": "ipython",
    "version": 3
   },
   "file_extension": ".py",
   "mimetype": "text/x-python",
   "name": "python",
   "nbconvert_exporter": "python",
   "pygments_lexer": "ipython3",
   "version": "3.11.1"
  }
 },
 "nbformat": 4,
 "nbformat_minor": 2
}
